{
  "nbformat": 4,
  "nbformat_minor": 0,
  "metadata": {
    "colab": {
      "name": "Python functions.ipynb",
      "provenance": [],
      "collapsed_sections": [],
      "authorship_tag": "ABX9TyM/NHBHADGVXKoolx/7EsJ1",
      "include_colab_link": true
    },
    "kernelspec": {
      "name": "python3",
      "display_name": "Python 3"
    },
    "language_info": {
      "name": "python"
    }
  },
  "cells": [
    {
      "cell_type": "markdown",
      "metadata": {
        "id": "view-in-github",
        "colab_type": "text"
      },
      "source": [
        "<a href=\"https://colab.research.google.com/github/Anjali-Saravanan/Python-Functions/blob/main/Python_functions.ipynb\" target=\"_parent\"><img src=\"https://colab.research.google.com/assets/colab-badge.svg\" alt=\"Open In Colab\"/></a>"
      ]
    },
    {
      "cell_type": "code",
      "source": [
        "integer = -20  \n",
        "print('Absolute value of -40 is:', abs(integer))  "
      ],
      "metadata": {
        "id": "kxxWPWuNEud6"
      },
      "execution_count": null,
      "outputs": []
    },
    {
      "cell_type": "code",
      "source": [
        "k = [1, 3, 4, 6]  \n",
        "print(all(k)) "
      ],
      "metadata": {
        "id": "UNAL8rKbF836"
      },
      "execution_count": null,
      "outputs": []
    },
    {
      "cell_type": "code",
      "source": [
        "x =  10  \n",
        "y =  bin(x)  \n",
        "print (y)  "
      ],
      "metadata": {
        "id": "JKWvqk-OGCBp"
      },
      "execution_count": null,
      "outputs": []
    },
    {
      "cell_type": "code",
      "source": [
        "test1 = 'Easy string'  \n",
        "print(test1,'is',bool(test1)) "
      ],
      "metadata": {
        "id": "8FeD-xusGK1Q"
      },
      "execution_count": null,
      "outputs": []
    },
    {
      "cell_type": "code",
      "source": [
        "string = \"Hello World.\"  \n",
        "array = bytes(string, 'utf-8')  \n",
        "print(array)  "
      ],
      "metadata": {
        "id": "oIDRrausGSiR"
      },
      "execution_count": null,
      "outputs": []
    },
    {
      "cell_type": "code",
      "source": [
        "x = 8  \n",
        "print(callable(x))  "
      ],
      "metadata": {
        "id": "fhKc4W36GXxo"
      },
      "execution_count": null,
      "outputs": []
    },
    {
      "cell_type": "code",
      "source": [
        "x = 8  \n",
        "exec('print(x==8)')  \n",
        "exec('print(x+4)')  "
      ],
      "metadata": {
        "id": "1PXS_0vuGj_J"
      },
      "execution_count": null,
      "outputs": []
    },
    {
      "cell_type": "code",
      "source": [
        "s = sum([1, 2,4 ])  \n",
        "print(s)  "
      ],
      "metadata": {
        "id": "alZQo0CZGnRw"
      },
      "execution_count": null,
      "outputs": []
    },
    {
      "cell_type": "code",
      "source": [
        "print(float(9))"
      ],
      "metadata": {
        "id": "PdvHKUicGsOi"
      },
      "execution_count": null,
      "outputs": []
    }
  ]
}